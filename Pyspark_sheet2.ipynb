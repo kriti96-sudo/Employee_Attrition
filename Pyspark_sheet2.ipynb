{
  "nbformat": 4,
  "nbformat_minor": 0,
  "metadata": {
    "colab": {
      "provenance": [],
      "authorship_tag": "ABX9TyMMMLE3E9+XzAm2juBRgrNj",
      "include_colab_link": true
    },
    "kernelspec": {
      "name": "python3",
      "display_name": "Python 3"
    },
    "language_info": {
      "name": "python"
    }
  },
  "cells": [
    {
      "cell_type": "markdown",
      "metadata": {
        "id": "view-in-github",
        "colab_type": "text"
      },
      "source": [
        "<a href=\"https://colab.research.google.com/github/kriti96-sudo/Employee_Attrition/blob/main/Pyspark_sheet2.ipynb\" target=\"_parent\"><img src=\"https://colab.research.google.com/assets/colab-badge.svg\" alt=\"Open In Colab\"/></a>"
      ]
    },
    {
      "cell_type": "code",
      "execution_count": 2,
      "metadata": {
        "colab": {
          "base_uri": "https://localhost:8080/",
          "height": 462
        },
        "id": "xmcDmd8unzHf",
        "outputId": "83661ddc-1573-4830-a96a-2e081e99b750"
      },
      "outputs": [
        {
          "output_type": "stream",
          "name": "stdout",
          "text": [
            "\r0% [Working]\r            \rHit:1 http://security.ubuntu.com/ubuntu jammy-security InRelease\n",
            "\r0% [Connecting to archive.ubuntu.com (91.189.91.81)] [Connected to cloud.r-proj\r                                                                               \rHit:2 https://cloud.r-project.org/bin/linux/ubuntu jammy-cran40/ InRelease\n",
            "\r0% [Waiting for headers] [Connecting to ppa.launchpadcontent.net] [Connected to\r                                                                               \rHit:3 http://archive.ubuntu.com/ubuntu jammy InRelease\n",
            "\r0% [Waiting for headers] [Connecting to ppa.launchpadcontent.net] [Connected to\r                                                                               \rHit:4 http://archive.ubuntu.com/ubuntu jammy-updates InRelease\n",
            "\r0% [Waiting for headers] [Connecting to ppa.launchpadcontent.net] [Waiting for \r                                                                               \rHit:5 http://archive.ubuntu.com/ubuntu jammy-backports InRelease\n",
            "Hit:6 https://developer.download.nvidia.com/compute/cuda/repos/ubuntu2204/x86_64  InRelease\n",
            "Hit:7 https://ppa.launchpadcontent.net/c2d4u.team/c2d4u4.0+/ubuntu jammy InRelease\n",
            "Hit:8 https://ppa.launchpadcontent.net/deadsnakes/ppa/ubuntu jammy InRelease\n",
            "Hit:9 https://ppa.launchpadcontent.net/graphics-drivers/ppa/ubuntu jammy InRelease\n",
            "Hit:10 https://ppa.launchpadcontent.net/ubuntugis/ppa/ubuntu jammy InRelease\n",
            "Reading package lists... Done\n",
            "sample_data\t\t       spark-3.1.1-bin-hadoop3.2\n",
            "spark-2.3.1-bin-hadoop2.7      spark-3.1.1-bin-hadoop3.2.tgz\n",
            "spark-2.3.1-bin-hadoop2.7.tgz\n"
          ]
        },
        {
          "output_type": "execute_result",
          "data": {
            "text/plain": [
              "<pyspark.sql.session.SparkSession at 0x7ee31a96f7c0>"
            ],
            "text/html": [
              "\n",
              "            <div>\n",
              "                <p><b>SparkSession - in-memory</b></p>\n",
              "                \n",
              "        <div>\n",
              "            <p><b>SparkContext</b></p>\n",
              "\n",
              "            <p><a href=\"http://8a8bfe37bb18:4040\">Spark UI</a></p>\n",
              "\n",
              "            <dl>\n",
              "              <dt>Version</dt>\n",
              "                <dd><code>v3.1.1</code></dd>\n",
              "              <dt>Master</dt>\n",
              "                <dd><code>local[*]</code></dd>\n",
              "              <dt>AppName</dt>\n",
              "                <dd><code>pyspark-shell</code></dd>\n",
              "            </dl>\n",
              "        </div>\n",
              "        \n",
              "            </div>\n",
              "        "
            ]
          },
          "metadata": {},
          "execution_count": 2
        }
      ],
      "source": [
        "!apt-get update\n",
        "!apt-get install openjdk-8-jdk-headless -qq > /dev/null\n",
        "!wget -q http://archive.apache.org/dist/spark/spark-3.1.1/spark-3.1.1-bin-hadoop3.2.tgz\n",
        "!tar xf spark-3.1.1-bin-hadoop3.2.tgz\n",
        "!pip install -q findspark\n",
        "import os\n",
        "os.environ[\"JAVA_HOME\"] = \"/usr/lib/jvm/java-8-openjdk-amd64\"\n",
        "os.environ[\"SPARK_HOME\"] = \"/content/spark-3.1.1-bin-hadoop3.2\"\n",
        "\n",
        "!ls\n",
        "\n",
        "import findspark\n",
        "findspark.init()\n",
        "from pyspark.sql import SparkSession\n",
        "spark = SparkSession.builder.master(\"local[*]\").getOrCreate()\n",
        "spark"
      ]
    },
    {
      "cell_type": "code",
      "source": [
        "data = spark.read.csv(\"original.csv\", header=True)"
      ],
      "metadata": {
        "id": "O6-_82_ruQb2"
      },
      "execution_count": 5,
      "outputs": []
    },
    {
      "cell_type": "code",
      "source": [
        "data.dtypes"
      ],
      "metadata": {
        "colab": {
          "base_uri": "https://localhost:8080/"
        },
        "id": "Z-F_ZIAxuQel",
        "outputId": "96ce3de5-80e3-456c-a85f-7608f6fca38f"
      },
      "execution_count": 6,
      "outputs": [
        {
          "output_type": "execute_result",
          "data": {
            "text/plain": [
              "[('id', 'string'),\n",
              " ('first_name', 'string'),\n",
              " ('last_name', 'string'),\n",
              " ('gender', 'string'),\n",
              " ('City', 'string'),\n",
              " ('JobTitle', 'string'),\n",
              " ('Salary', 'string'),\n",
              " ('Latitude', 'string'),\n",
              " ('Longitude', 'string')]"
            ]
          },
          "metadata": {},
          "execution_count": 6
        }
      ]
    },
    {
      "cell_type": "code",
      "source": [
        "from pyspark.sql.types import *\n",
        "\n",
        "myschema = StructType([\n",
        "    StructField('id' , IntegerType()),\n",
        "    StructField('first_name', StringType()),\n",
        "    StructField('last_name', StringType()),\n",
        "    StructField('gender', StringType()),\n",
        "    StructField('City', StringType()),\n",
        "    StructField('JobTitle', StringType()),\n",
        "    StructField('Salary', StringType()),\n",
        "    StructField('Latitude', FloatType()),\n",
        "    StructField('Longitude', FloatType()),\n",
        "])"
      ],
      "metadata": {
        "id": "tFcRPwuYuQgo"
      },
      "execution_count": 10,
      "outputs": []
    },
    {
      "cell_type": "code",
      "source": [
        "df = spark.read.csv(\"original.csv\", header=True, schema = myschema)\n",
        "df.show()"
      ],
      "metadata": {
        "colab": {
          "base_uri": "https://localhost:8080/"
        },
        "id": "13n4DhueuQkU",
        "outputId": "975aa1cc-a8fc-446c-e069-d0baa881890b"
      },
      "execution_count": 11,
      "outputs": [
        {
          "output_type": "stream",
          "name": "stdout",
          "text": [
            "+---+----------+----------+------+---------------+--------------------+---------+----------+----------+\n",
            "| id|first_name| last_name|gender|           City|            JobTitle|   Salary|  Latitude| Longitude|\n",
            "+---+----------+----------+------+---------------+--------------------+---------+----------+----------+\n",
            "|  1|   Melinde| Shilburne|Female|      Nowa Ruda| Assistant Professor|$57438.18| 50.577408| 16.496717|\n",
            "|  2|  Kimberly|Von Welden|Female|         Bulgan|       Programmer II|$62846.60|  48.82316| 103.52182|\n",
            "|  3|    Alvera|  Di Boldi|Female|           null|                null|$57576.52| 39.994747|116.339775|\n",
            "|  4|   Shannon| O'Griffin|  Male|  Divnomorskoye|Budget/Accounting...|$61489.23| 44.504723| 38.130016|\n",
            "|  5|  Sherwood|   Macieja|  Male|      Mytishchi|            VP Sales|$63863.09|      null| 37.648994|\n",
            "|  6|     Maris|      Folk|Female|Kinsealy-Drinan|      Civil Engineer|$30101.16| 53.426613|-6.1644998|\n",
            "|  7|     Masha|    Divers|Female|         Dachun|                null|$25090.87| 24.879416|118.930115|\n",
            "|  8|   Goddart|     Flear|  Male|      Trélissac|Desktop Support T...|$46116.36| 45.190517| 0.7423124|\n",
            "|  9|      Roth|O'Cannavan|  Male|         Heitan|VP Product Manage...|$73697.10| 32.027935| 106.65711|\n",
            "| 10|      Bran|   Trahear|  Male|       Arbeláez|Mechanical System...|$68098.42|  4.272793|-74.416016|\n",
            "| 11|    Kylynn|   Lockart|Female|       El Cardo|Nuclear Power Eng...|$13604.63|     -5.85| -79.88333|\n",
            "| 12|       Rey|    Meharg|Female|    Wangqingtuo|Systems Administr...|$73423.70|  39.17238| 116.93161|\n",
            "| 13|      Kerr|    Braden|  Male|      Sułkowice|Compensation Analyst|$33432.99|  49.81518| 19.377174|\n",
            "| 14|    Mickie| Whanstall|  Male|    Springfield|Assistant Media P...|$50838.53|  42.10148|-72.576675|\n",
            "| 15|    Kaspar|     Pally|  Male|         Chrást|  Analyst Programmer|$40163.03|  49.79233| 13.491532|\n",
            "| 16|    Norbie|    Gwyllt|  Male|         Xijiao|              Editor|$32492.73| 43.494576|  5.897802|\n",
            "| 17|    Claude|    Briant|Female|      Mieścisko|Research Assistan...|$51862.48| 52.744167| 17.327864|\n",
            "| 18|     Thain|    Habbon|  Male| Foros do Trapo|     Design Engineer|$42135.67| 38.696247| -8.709834|\n",
            "| 19|  Tiffanie|  Pattison|Female|    Jabungsisir|Senior Financial ...|$91925.08|-7.7232566| 113.46868|\n",
            "| 20|    Ettore|  Gerriets|  Male|          Pedra| Staff Accountant IV|$73921.33| 40.717205|-8.3625145|\n",
            "+---+----------+----------+------+---------------+--------------------+---------+----------+----------+\n",
            "only showing top 20 rows\n",
            "\n"
          ]
        }
      ]
    },
    {
      "cell_type": "code",
      "source": [
        "df.dtypes"
      ],
      "metadata": {
        "colab": {
          "base_uri": "https://localhost:8080/"
        },
        "id": "FSRgKjQbuQm2",
        "outputId": "5adbdc7c-8dd5-48c8-8780-9271dd7925d1"
      },
      "execution_count": 12,
      "outputs": [
        {
          "output_type": "execute_result",
          "data": {
            "text/plain": [
              "[('id', 'int'),\n",
              " ('first_name', 'string'),\n",
              " ('last_name', 'string'),\n",
              " ('gender', 'string'),\n",
              " ('City', 'string'),\n",
              " ('JobTitle', 'string'),\n",
              " ('Salary', 'string'),\n",
              " ('Latitude', 'float'),\n",
              " ('Longitude', 'float')]"
            ]
          },
          "metadata": {},
          "execution_count": 12
        }
      ]
    },
    {
      "cell_type": "code",
      "source": [
        "df.head(15)"
      ],
      "metadata": {
        "colab": {
          "base_uri": "https://localhost:8080/"
        },
        "id": "RbiBNK8WuQpp",
        "outputId": "5585d26f-1689-4904-8b7f-62bb6f465c95"
      },
      "execution_count": 14,
      "outputs": [
        {
          "output_type": "execute_result",
          "data": {
            "text/plain": [
              "[Row(id=1, first_name='Melinde', last_name='Shilburne', gender='Female', City='Nowa Ruda', JobTitle='Assistant Professor', Salary='$57438.18', Latitude=50.57740783691406, Longitude=16.49671745300293),\n",
              " Row(id=2, first_name='Kimberly', last_name='Von Welden', gender='Female', City='Bulgan', JobTitle='Programmer II', Salary='$62846.60', Latitude=48.823158264160156, Longitude=103.52182006835938),\n",
              " Row(id=3, first_name='Alvera', last_name='Di Boldi', gender='Female', City=None, JobTitle=None, Salary='$57576.52', Latitude=39.994747161865234, Longitude=116.33977508544922),\n",
              " Row(id=4, first_name='Shannon', last_name=\"O'Griffin\", gender='Male', City='Divnomorskoye', JobTitle='Budget/Accounting Analyst II', Salary='$61489.23', Latitude=44.504722595214844, Longitude=38.1300163269043),\n",
              " Row(id=5, first_name='Sherwood', last_name='Macieja', gender='Male', City='Mytishchi', JobTitle='VP Sales', Salary='$63863.09', Latitude=None, Longitude=37.64899444580078),\n",
              " Row(id=6, first_name='Maris', last_name='Folk', gender='Female', City='Kinsealy-Drinan', JobTitle='Civil Engineer', Salary='$30101.16', Latitude=53.426612854003906, Longitude=-6.164499759674072),\n",
              " Row(id=7, first_name='Masha', last_name='Divers', gender='Female', City='Dachun', JobTitle=None, Salary='$25090.87', Latitude=24.87941551208496, Longitude=118.93011474609375),\n",
              " Row(id=8, first_name='Goddart', last_name='Flear', gender='Male', City='Trélissac', JobTitle='Desktop Support Technician', Salary='$46116.36', Latitude=45.19051742553711, Longitude=0.7423123717308044),\n",
              " Row(id=9, first_name='Roth', last_name=\"O'Cannavan\", gender='Male', City='Heitan', JobTitle='VP Product Management', Salary='$73697.10', Latitude=32.02793502807617, Longitude=106.65711212158203),\n",
              " Row(id=10, first_name='Bran', last_name='Trahear', gender='Male', City='Arbeláez', JobTitle='Mechanical Systems Engineer', Salary='$68098.42', Latitude=4.272792816162109, Longitude=-74.416015625),\n",
              " Row(id=11, first_name='Kylynn', last_name='Lockart', gender='Female', City='El Cardo', JobTitle='Nuclear Power Engineer', Salary='$13604.63', Latitude=-5.849999904632568, Longitude=-79.88333129882812),\n",
              " Row(id=12, first_name='Rey', last_name='Meharg', gender='Female', City='Wangqingtuo', JobTitle='Systems Administrator I', Salary='$73423.70', Latitude=39.17237854003906, Longitude=116.93161010742188),\n",
              " Row(id=13, first_name='Kerr', last_name='Braden', gender='Male', City='Sułkowice', JobTitle='Compensation Analyst', Salary='$33432.99', Latitude=49.815181732177734, Longitude=19.377174377441406),\n",
              " Row(id=14, first_name='Mickie', last_name='Whanstall', gender='Male', City='Springfield', JobTitle='Assistant Media Planner', Salary='$50838.53', Latitude=42.101478576660156, Longitude=-72.57667541503906),\n",
              " Row(id=15, first_name='Kaspar', last_name='Pally', gender='Male', City='Chrást', JobTitle='Analyst Programmer', Salary='$40163.03', Latitude=49.79233169555664, Longitude=13.491532325744629)]"
            ]
          },
          "metadata": {},
          "execution_count": 14
        }
      ]
    },
    {
      "cell_type": "code",
      "source": [
        "df.first()"
      ],
      "metadata": {
        "colab": {
          "base_uri": "https://localhost:8080/"
        },
        "id": "1ApTubwQxG_v",
        "outputId": "c518240c-b64c-4630-8fa1-5a9dd5fd7ad5"
      },
      "execution_count": 15,
      "outputs": [
        {
          "output_type": "execute_result",
          "data": {
            "text/plain": [
              "Row(id=1, first_name='Melinde', last_name='Shilburne', gender='Female', City='Nowa Ruda', JobTitle='Assistant Professor', Salary='$57438.18', Latitude=50.57740783691406, Longitude=16.49671745300293)"
            ]
          },
          "metadata": {},
          "execution_count": 15
        }
      ]
    },
    {
      "cell_type": "code",
      "source": [
        "df.describe().show()"
      ],
      "metadata": {
        "colab": {
          "base_uri": "https://localhost:8080/"
        },
        "id": "pmJOsccnxHFF",
        "outputId": "133b71e5-6524-4a16-ab2b-aa46e1574fa9"
      },
      "execution_count": 16,
      "outputs": [
        {
          "output_type": "stream",
          "name": "stdout",
          "text": [
            "+-------+-----------------+----------+---------+------+-------------------+-------------------+---------+------------------+-----------------+\n",
            "|summary|               id|first_name|last_name|gender|               City|           JobTitle|   Salary|          Latitude|        Longitude|\n",
            "+-------+-----------------+----------+---------+------+-------------------+-------------------+---------+------------------+-----------------+\n",
            "|  count|             1000|      1000|     1000|  1000|                999|                998|     1000|               999|             1000|\n",
            "|   mean|            500.5|      null|     null|  null|               null|               null|     null| 25.43151724702484|43.33756460386515|\n",
            "| stddev|288.8194360957494|      null|     null|  null|               null|               null|     null|24.579082550156635| 69.4206453674681|\n",
            "|    min|                1|   Abagail|    Abbay|Female|             Abéché|Account Coordinator|$10101.92|         -54.28115|       -123.04196|\n",
            "|    max|             1000|    Zulema| de Marco|  Male|‘Aşīrah al Qiblīyah|   Web Developer IV|$99948.28|          69.63186|        175.28227|\n",
            "+-------+-----------------+----------+---------+------+-------------------+-------------------+---------+------------------+-----------------+\n",
            "\n"
          ]
        }
      ]
    },
    {
      "cell_type": "code",
      "source": [
        "df.columns"
      ],
      "metadata": {
        "colab": {
          "base_uri": "https://localhost:8080/"
        },
        "id": "c52xzhxCxHH9",
        "outputId": "cd9ff324-63ea-4ae0-e5f2-a8f80c885085"
      },
      "execution_count": 17,
      "outputs": [
        {
          "output_type": "execute_result",
          "data": {
            "text/plain": [
              "['id',\n",
              " 'first_name',\n",
              " 'last_name',\n",
              " 'gender',\n",
              " 'City',\n",
              " 'JobTitle',\n",
              " 'Salary',\n",
              " 'Latitude',\n",
              " 'Longitude']"
            ]
          },
          "metadata": {},
          "execution_count": 17
        }
      ]
    },
    {
      "cell_type": "code",
      "source": [
        "df.count()"
      ],
      "metadata": {
        "colab": {
          "base_uri": "https://localhost:8080/"
        },
        "id": "aQRUrG09xHLD",
        "outputId": "c051b93a-5308-4618-e45f-4c10c068c5f1"
      },
      "execution_count": 18,
      "outputs": [
        {
          "output_type": "execute_result",
          "data": {
            "text/plain": [
              "1000"
            ]
          },
          "metadata": {},
          "execution_count": 18
        }
      ]
    },
    {
      "cell_type": "code",
      "source": [
        "df.distinct().count()"
      ],
      "metadata": {
        "colab": {
          "base_uri": "https://localhost:8080/"
        },
        "id": "mqKDX-wZxHNN",
        "outputId": "1c7bf7c2-d3f3-4760-c17c-0621c51f96dd"
      },
      "execution_count": 20,
      "outputs": [
        {
          "output_type": "execute_result",
          "data": {
            "text/plain": [
              "1000"
            ]
          },
          "metadata": {},
          "execution_count": 20
        }
      ]
    },
    {
      "cell_type": "code",
      "source": [
        "# Treating Null value\n",
        "# droping approach\n",
        "\n",
        "df_dropped = df.na.drop()\n",
        "df_dropped.show()"
      ],
      "metadata": {
        "colab": {
          "base_uri": "https://localhost:8080/"
        },
        "id": "izXbekg1xHPQ",
        "outputId": "f6e4ddfa-8887-4572-8905-1355dde1ca75"
      },
      "execution_count": 21,
      "outputs": [
        {
          "output_type": "stream",
          "name": "stdout",
          "text": [
            "+---+----------+----------+------+---------------+--------------------+---------+----------+----------+\n",
            "| id|first_name| last_name|gender|           City|            JobTitle|   Salary|  Latitude| Longitude|\n",
            "+---+----------+----------+------+---------------+--------------------+---------+----------+----------+\n",
            "|  1|   Melinde| Shilburne|Female|      Nowa Ruda| Assistant Professor|$57438.18| 50.577408| 16.496717|\n",
            "|  2|  Kimberly|Von Welden|Female|         Bulgan|       Programmer II|$62846.60|  48.82316| 103.52182|\n",
            "|  4|   Shannon| O'Griffin|  Male|  Divnomorskoye|Budget/Accounting...|$61489.23| 44.504723| 38.130016|\n",
            "|  6|     Maris|      Folk|Female|Kinsealy-Drinan|      Civil Engineer|$30101.16| 53.426613|-6.1644998|\n",
            "|  8|   Goddart|     Flear|  Male|      Trélissac|Desktop Support T...|$46116.36| 45.190517| 0.7423124|\n",
            "|  9|      Roth|O'Cannavan|  Male|         Heitan|VP Product Manage...|$73697.10| 32.027935| 106.65711|\n",
            "| 10|      Bran|   Trahear|  Male|       Arbeláez|Mechanical System...|$68098.42|  4.272793|-74.416016|\n",
            "| 11|    Kylynn|   Lockart|Female|       El Cardo|Nuclear Power Eng...|$13604.63|     -5.85| -79.88333|\n",
            "| 12|       Rey|    Meharg|Female|    Wangqingtuo|Systems Administr...|$73423.70|  39.17238| 116.93161|\n",
            "| 13|      Kerr|    Braden|  Male|      Sułkowice|Compensation Analyst|$33432.99|  49.81518| 19.377174|\n",
            "| 14|    Mickie| Whanstall|  Male|    Springfield|Assistant Media P...|$50838.53|  42.10148|-72.576675|\n",
            "| 15|    Kaspar|     Pally|  Male|         Chrást|  Analyst Programmer|$40163.03|  49.79233| 13.491532|\n",
            "| 16|    Norbie|    Gwyllt|  Male|         Xijiao|              Editor|$32492.73| 43.494576|  5.897802|\n",
            "| 17|    Claude|    Briant|Female|      Mieścisko|Research Assistan...|$51862.48| 52.744167| 17.327864|\n",
            "| 18|     Thain|    Habbon|  Male| Foros do Trapo|     Design Engineer|$42135.67| 38.696247| -8.709834|\n",
            "| 19|  Tiffanie|  Pattison|Female|    Jabungsisir|Senior Financial ...|$91925.08|-7.7232566| 113.46868|\n",
            "| 20|    Ettore|  Gerriets|  Male|          Pedra| Staff Accountant IV|$73921.33| 40.717205|-8.3625145|\n",
            "| 21|      Alon|  Chasteau|  Male|          Xin’e|     Web Developer I|$62755.85|  49.16291| 127.98658|\n",
            "| 22|   Guthrey|    Johnke|  Male|         Xijiao|         Developer I|$13708.03| 40.757683| 23.134218|\n",
            "| 23|   Lurleen|   Janczak|Female|      Rozkishne|    Web Developer IV|$29384.72|  48.49028|  39.27122|\n",
            "+---+----------+----------+------+---------------+--------------------+---------+----------+----------+\n",
            "only showing top 20 rows\n",
            "\n"
          ]
        }
      ]
    },
    {
      "cell_type": "code",
      "source": [
        "# another approach\n",
        "df_null_jobs = df.filter(df.JobTitle.isNotNull())\n",
        "df_null_jobs.show()"
      ],
      "metadata": {
        "colab": {
          "base_uri": "https://localhost:8080/"
        },
        "id": "SzMSfV0nxHS_",
        "outputId": "546f673b-b2c9-4ded-e815-e6ad49808400"
      },
      "execution_count": 23,
      "outputs": [
        {
          "output_type": "stream",
          "name": "stdout",
          "text": [
            "+---+----------+----------+------+---------------+--------------------+---------+----------+----------+\n",
            "| id|first_name| last_name|gender|           City|            JobTitle|   Salary|  Latitude| Longitude|\n",
            "+---+----------+----------+------+---------------+--------------------+---------+----------+----------+\n",
            "|  1|   Melinde| Shilburne|Female|      Nowa Ruda| Assistant Professor|$57438.18| 50.577408| 16.496717|\n",
            "|  2|  Kimberly|Von Welden|Female|         Bulgan|       Programmer II|$62846.60|  48.82316| 103.52182|\n",
            "|  4|   Shannon| O'Griffin|  Male|  Divnomorskoye|Budget/Accounting...|$61489.23| 44.504723| 38.130016|\n",
            "|  5|  Sherwood|   Macieja|  Male|      Mytishchi|            VP Sales|$63863.09|      null| 37.648994|\n",
            "|  6|     Maris|      Folk|Female|Kinsealy-Drinan|      Civil Engineer|$30101.16| 53.426613|-6.1644998|\n",
            "|  8|   Goddart|     Flear|  Male|      Trélissac|Desktop Support T...|$46116.36| 45.190517| 0.7423124|\n",
            "|  9|      Roth|O'Cannavan|  Male|         Heitan|VP Product Manage...|$73697.10| 32.027935| 106.65711|\n",
            "| 10|      Bran|   Trahear|  Male|       Arbeláez|Mechanical System...|$68098.42|  4.272793|-74.416016|\n",
            "| 11|    Kylynn|   Lockart|Female|       El Cardo|Nuclear Power Eng...|$13604.63|     -5.85| -79.88333|\n",
            "| 12|       Rey|    Meharg|Female|    Wangqingtuo|Systems Administr...|$73423.70|  39.17238| 116.93161|\n",
            "| 13|      Kerr|    Braden|  Male|      Sułkowice|Compensation Analyst|$33432.99|  49.81518| 19.377174|\n",
            "| 14|    Mickie| Whanstall|  Male|    Springfield|Assistant Media P...|$50838.53|  42.10148|-72.576675|\n",
            "| 15|    Kaspar|     Pally|  Male|         Chrást|  Analyst Programmer|$40163.03|  49.79233| 13.491532|\n",
            "| 16|    Norbie|    Gwyllt|  Male|         Xijiao|              Editor|$32492.73| 43.494576|  5.897802|\n",
            "| 17|    Claude|    Briant|Female|      Mieścisko|Research Assistan...|$51862.48| 52.744167| 17.327864|\n",
            "| 18|     Thain|    Habbon|  Male| Foros do Trapo|     Design Engineer|$42135.67| 38.696247| -8.709834|\n",
            "| 19|  Tiffanie|  Pattison|Female|    Jabungsisir|Senior Financial ...|$91925.08|-7.7232566| 113.46868|\n",
            "| 20|    Ettore|  Gerriets|  Male|          Pedra| Staff Accountant IV|$73921.33| 40.717205|-8.3625145|\n",
            "| 21|      Alon|  Chasteau|  Male|          Xin’e|     Web Developer I|$62755.85|  49.16291| 127.98658|\n",
            "| 22|   Guthrey|    Johnke|  Male|         Xijiao|         Developer I|$13708.03| 40.757683| 23.134218|\n",
            "+---+----------+----------+------+---------------+--------------------+---------+----------+----------+\n",
            "only showing top 20 rows\n",
            "\n"
          ]
        }
      ]
    },
    {
      "cell_type": "code",
      "source": [
        "# another way to treat Null value -------> create new column\n",
        "from pyspark.sql.functions import *\n",
        "df_handled = df.withColumn(\"clean_city\",when(df.City.isNull(), 'Unknown').otherwise(df.City))"
      ],
      "metadata": {
        "id": "5oYyKablxHVv"
      },
      "execution_count": 24,
      "outputs": []
    },
    {
      "cell_type": "code",
      "source": [
        "df_handled.show()"
      ],
      "metadata": {
        "colab": {
          "base_uri": "https://localhost:8080/"
        },
        "id": "Mm5h8nIoxHYE",
        "outputId": "19b7d8ac-5d16-4a26-fd09-9a3aabaff2a7"
      },
      "execution_count": 25,
      "outputs": [
        {
          "output_type": "stream",
          "name": "stdout",
          "text": [
            "+---+----------+----------+------+---------------+--------------------+---------+----------+----------+---------------+\n",
            "| id|first_name| last_name|gender|           City|            JobTitle|   Salary|  Latitude| Longitude|     clean_city|\n",
            "+---+----------+----------+------+---------------+--------------------+---------+----------+----------+---------------+\n",
            "|  1|   Melinde| Shilburne|Female|      Nowa Ruda| Assistant Professor|$57438.18| 50.577408| 16.496717|      Nowa Ruda|\n",
            "|  2|  Kimberly|Von Welden|Female|         Bulgan|       Programmer II|$62846.60|  48.82316| 103.52182|         Bulgan|\n",
            "|  3|    Alvera|  Di Boldi|Female|           null|                null|$57576.52| 39.994747|116.339775|        Unknown|\n",
            "|  4|   Shannon| O'Griffin|  Male|  Divnomorskoye|Budget/Accounting...|$61489.23| 44.504723| 38.130016|  Divnomorskoye|\n",
            "|  5|  Sherwood|   Macieja|  Male|      Mytishchi|            VP Sales|$63863.09|      null| 37.648994|      Mytishchi|\n",
            "|  6|     Maris|      Folk|Female|Kinsealy-Drinan|      Civil Engineer|$30101.16| 53.426613|-6.1644998|Kinsealy-Drinan|\n",
            "|  7|     Masha|    Divers|Female|         Dachun|                null|$25090.87| 24.879416|118.930115|         Dachun|\n",
            "|  8|   Goddart|     Flear|  Male|      Trélissac|Desktop Support T...|$46116.36| 45.190517| 0.7423124|      Trélissac|\n",
            "|  9|      Roth|O'Cannavan|  Male|         Heitan|VP Product Manage...|$73697.10| 32.027935| 106.65711|         Heitan|\n",
            "| 10|      Bran|   Trahear|  Male|       Arbeláez|Mechanical System...|$68098.42|  4.272793|-74.416016|       Arbeláez|\n",
            "| 11|    Kylynn|   Lockart|Female|       El Cardo|Nuclear Power Eng...|$13604.63|     -5.85| -79.88333|       El Cardo|\n",
            "| 12|       Rey|    Meharg|Female|    Wangqingtuo|Systems Administr...|$73423.70|  39.17238| 116.93161|    Wangqingtuo|\n",
            "| 13|      Kerr|    Braden|  Male|      Sułkowice|Compensation Analyst|$33432.99|  49.81518| 19.377174|      Sułkowice|\n",
            "| 14|    Mickie| Whanstall|  Male|    Springfield|Assistant Media P...|$50838.53|  42.10148|-72.576675|    Springfield|\n",
            "| 15|    Kaspar|     Pally|  Male|         Chrást|  Analyst Programmer|$40163.03|  49.79233| 13.491532|         Chrást|\n",
            "| 16|    Norbie|    Gwyllt|  Male|         Xijiao|              Editor|$32492.73| 43.494576|  5.897802|         Xijiao|\n",
            "| 17|    Claude|    Briant|Female|      Mieścisko|Research Assistan...|$51862.48| 52.744167| 17.327864|      Mieścisko|\n",
            "| 18|     Thain|    Habbon|  Male| Foros do Trapo|     Design Engineer|$42135.67| 38.696247| -8.709834| Foros do Trapo|\n",
            "| 19|  Tiffanie|  Pattison|Female|    Jabungsisir|Senior Financial ...|$91925.08|-7.7232566| 113.46868|    Jabungsisir|\n",
            "| 20|    Ettore|  Gerriets|  Male|          Pedra| Staff Accountant IV|$73921.33| 40.717205|-8.3625145|          Pedra|\n",
            "+---+----------+----------+------+---------------+--------------------+---------+----------+----------+---------------+\n",
            "only showing top 20 rows\n",
            "\n"
          ]
        }
      ]
    },
    {
      "cell_type": "code",
      "source": [
        "# Duplicate value\n",
        "df_no_duplicates = df.dropDuplicates()\n",
        "df_no_duplicates.show()\n"
      ],
      "metadata": {
        "colab": {
          "base_uri": "https://localhost:8080/"
        },
        "id": "efcOUEAJxHaz",
        "outputId": "cc062973-1b2f-4030-eb20-54c5e2860ff0"
      },
      "execution_count": 26,
      "outputs": [
        {
          "output_type": "stream",
          "name": "stdout",
          "text": [
            "+---+----------+-------------+------+--------------------+--------------------+---------+----------+----------+\n",
            "| id|first_name|    last_name|gender|                City|            JobTitle|   Salary|  Latitude| Longitude|\n",
            "+---+----------+-------------+------+--------------------+--------------------+---------+----------+----------+\n",
            "|372|     Lyman|      Burfitt|  Male|             Guiping|Community Outreac...|$28755.53| 23.394325| 110.07938|\n",
            "|391|     Verge|     Hefferan|  Male|          Cocachacra|Community Outreac...|$90391.71|-17.091843| -71.77114|\n",
            "|428|   Pernell|      Fossitt|  Male|           Wangchang|    Graphic Designer|$36927.53| 40.401047|  117.9989|\n",
            "|526|  Garfield|    Benadette|  Male|              Shiren|   Marketing Manager|$56867.78| 28.651703| 117.90413|\n",
            "|731|     Legra|        Manns|Female|               Nîmes|  Research Associate|$42246.87| 43.844727| 4.3520436|\n",
            "|809|       Jed|       Shires|  Male|            Goubétto|     Design Engineer|$64130.79| 11.423197| 43.002483|\n",
            "|107|    Rhodia|     Glazzard|Female|            Predavac|             Actuary|$42166.97|  45.93808| 16.780666|\n",
            "|206|    Penrod|      Aukland|  Male|                Maru|    Junior Executive|$88916.91| 11.366184|  6.322607|\n",
            "|271|    Cyndie|       Docker|Female|        Sanshengyuan|     Legal Assistant|$28926.95| 38.284946| 114.44385|\n",
            "|519|  Marchall|       Gaskal|  Male|              Buawan|Research Assistan...|$40183.50|  14.64239|120.957565|\n",
            "|673|  Reinaldo|        Wiles|  Male|         Spas-Zaulok|Human Resources M...|$41604.67| 56.476814| 36.575226|\n",
            "|255|   Jameson|      Gaiford|  Male|             Dahuang|   Marketing Manager|$27207.16| 40.142128| 94.661964|\n",
            "|792|   Morgana|          Kew|Female|              Duozhu|        Engineer III|$71416.86| 23.027798| 114.95018|\n",
            "|294|   Quintus|    Potticary|  Male|São Mamede de Inf...|       Senior Editor|$55111.06|  41.18463| -8.598522|\n",
            "|422|  Giuditta|Thundercliffe|Female|             Xinying| Geological Engineer|$83766.35| 39.983112| -75.11504|\n",
            "|859|    Willyt|      Suttaby|Female|           Haykashen|Human Resources A...|$76556.57| 40.072536|  44.30513|\n",
            "|864|    Bertie|        Bewsy|  Male|         Poncokusumo|Software Test Eng...|$25446.48| -8.051573| 112.83438|\n",
            "|918|  Merralee|     Brockley|Female|          Karabanovo|  Nurse Practicioner|$45568.92|  56.30725| 38.701054|\n",
            "|163| Valentino|       Loxley|  Male|               Taifu| Software Consultant|$87708.40|  41.46429| -74.36236|\n",
            "|297|    Marlie|       Angelo|Female|            Cértegui|  Speech Pathologist|$21951.41|   5.40004| -76.60003|\n",
            "+---+----------+-------------+------+--------------------+--------------------+---------+----------+----------+\n",
            "only showing top 20 rows\n",
            "\n"
          ]
        }
      ]
    },
    {
      "cell_type": "code",
      "source": [
        "# Selecting & Filtering the Data\n",
        "\n",
        "df_select = df.select(\"first_name\", \"last_name\")\n",
        "df_select.show()"
      ],
      "metadata": {
        "colab": {
          "base_uri": "https://localhost:8080/"
        },
        "id": "rue1Y_dnxHc9",
        "outputId": "f51c8c96-6892-4f52-dd97-0cd844107179"
      },
      "execution_count": 27,
      "outputs": [
        {
          "output_type": "stream",
          "name": "stdout",
          "text": [
            "+----------+----------+\n",
            "|first_name| last_name|\n",
            "+----------+----------+\n",
            "|   Melinde| Shilburne|\n",
            "|  Kimberly|Von Welden|\n",
            "|    Alvera|  Di Boldi|\n",
            "|   Shannon| O'Griffin|\n",
            "|  Sherwood|   Macieja|\n",
            "|     Maris|      Folk|\n",
            "|     Masha|    Divers|\n",
            "|   Goddart|     Flear|\n",
            "|      Roth|O'Cannavan|\n",
            "|      Bran|   Trahear|\n",
            "|    Kylynn|   Lockart|\n",
            "|       Rey|    Meharg|\n",
            "|      Kerr|    Braden|\n",
            "|    Mickie| Whanstall|\n",
            "|    Kaspar|     Pally|\n",
            "|    Norbie|    Gwyllt|\n",
            "|    Claude|    Briant|\n",
            "|     Thain|    Habbon|\n",
            "|  Tiffanie|  Pattison|\n",
            "|    Ettore|  Gerriets|\n",
            "+----------+----------+\n",
            "only showing top 20 rows\n",
            "\n"
          ]
        }
      ]
    },
    {
      "cell_type": "code",
      "source": [
        "# Renamed the column name\n",
        "\n",
        "df_renamed = df.withColumnRenamed(\"first_name\", \"FN\")\n",
        "df_renamed.show()"
      ],
      "metadata": {
        "colab": {
          "base_uri": "https://localhost:8080/"
        },
        "id": "rof1eVvmxHgW",
        "outputId": "7a860ff9-4c0f-40f4-a05c-30aaab5931fb"
      },
      "execution_count": 29,
      "outputs": [
        {
          "output_type": "stream",
          "name": "stdout",
          "text": [
            "+---+--------+----------+------+---------------+--------------------+---------+----------+----------+\n",
            "| id|      FN| last_name|gender|           City|            JobTitle|   Salary|  Latitude| Longitude|\n",
            "+---+--------+----------+------+---------------+--------------------+---------+----------+----------+\n",
            "|  1| Melinde| Shilburne|Female|      Nowa Ruda| Assistant Professor|$57438.18| 50.577408| 16.496717|\n",
            "|  2|Kimberly|Von Welden|Female|         Bulgan|       Programmer II|$62846.60|  48.82316| 103.52182|\n",
            "|  3|  Alvera|  Di Boldi|Female|           null|                null|$57576.52| 39.994747|116.339775|\n",
            "|  4| Shannon| O'Griffin|  Male|  Divnomorskoye|Budget/Accounting...|$61489.23| 44.504723| 38.130016|\n",
            "|  5|Sherwood|   Macieja|  Male|      Mytishchi|            VP Sales|$63863.09|      null| 37.648994|\n",
            "|  6|   Maris|      Folk|Female|Kinsealy-Drinan|      Civil Engineer|$30101.16| 53.426613|-6.1644998|\n",
            "|  7|   Masha|    Divers|Female|         Dachun|                null|$25090.87| 24.879416|118.930115|\n",
            "|  8| Goddart|     Flear|  Male|      Trélissac|Desktop Support T...|$46116.36| 45.190517| 0.7423124|\n",
            "|  9|    Roth|O'Cannavan|  Male|         Heitan|VP Product Manage...|$73697.10| 32.027935| 106.65711|\n",
            "| 10|    Bran|   Trahear|  Male|       Arbeláez|Mechanical System...|$68098.42|  4.272793|-74.416016|\n",
            "| 11|  Kylynn|   Lockart|Female|       El Cardo|Nuclear Power Eng...|$13604.63|     -5.85| -79.88333|\n",
            "| 12|     Rey|    Meharg|Female|    Wangqingtuo|Systems Administr...|$73423.70|  39.17238| 116.93161|\n",
            "| 13|    Kerr|    Braden|  Male|      Sułkowice|Compensation Analyst|$33432.99|  49.81518| 19.377174|\n",
            "| 14|  Mickie| Whanstall|  Male|    Springfield|Assistant Media P...|$50838.53|  42.10148|-72.576675|\n",
            "| 15|  Kaspar|     Pally|  Male|         Chrást|  Analyst Programmer|$40163.03|  49.79233| 13.491532|\n",
            "| 16|  Norbie|    Gwyllt|  Male|         Xijiao|              Editor|$32492.73| 43.494576|  5.897802|\n",
            "| 17|  Claude|    Briant|Female|      Mieścisko|Research Assistan...|$51862.48| 52.744167| 17.327864|\n",
            "| 18|   Thain|    Habbon|  Male| Foros do Trapo|     Design Engineer|$42135.67| 38.696247| -8.709834|\n",
            "| 19|Tiffanie|  Pattison|Female|    Jabungsisir|Senior Financial ...|$91925.08|-7.7232566| 113.46868|\n",
            "| 20|  Ettore|  Gerriets|  Male|          Pedra| Staff Accountant IV|$73921.33| 40.717205|-8.3625145|\n",
            "+---+--------+----------+------+---------------+--------------------+---------+----------+----------+\n",
            "only showing top 20 rows\n",
            "\n"
          ]
        }
      ]
    },
    {
      "cell_type": "code",
      "source": [
        "# Filtering Data\n",
        "# 1st way\n",
        "\n",
        "df_filter = df.filter(df.first_name == 'Alvera')\n",
        "df_filter.show()"
      ],
      "metadata": {
        "colab": {
          "base_uri": "https://localhost:8080/"
        },
        "id": "-ErUZGgHxHiU",
        "outputId": "f42d04c0-7ce7-44e8-db8d-527128b75cf6"
      },
      "execution_count": 30,
      "outputs": [
        {
          "output_type": "stream",
          "name": "stdout",
          "text": [
            "+---+----------+---------+------+----+--------+---------+---------+----------+\n",
            "| id|first_name|last_name|gender|City|JobTitle|   Salary| Latitude| Longitude|\n",
            "+---+----------+---------+------+----+--------+---------+---------+----------+\n",
            "|  3|    Alvera| Di Boldi|Female|null|    null|$57576.52|39.994747|116.339775|\n",
            "+---+----------+---------+------+----+--------+---------+---------+----------+\n",
            "\n"
          ]
        }
      ]
    },
    {
      "cell_type": "code",
      "source": [
        "# 2nd way\n",
        "df_filter = df.filter((df.first_name.like(\"%lvera\")))\n",
        "df_filter.show()"
      ],
      "metadata": {
        "colab": {
          "base_uri": "https://localhost:8080/"
        },
        "id": "G4ZYUO8IxHkq",
        "outputId": "5917dfd1-8d80-476d-aa67-499f356eb2b7"
      },
      "execution_count": 31,
      "outputs": [
        {
          "output_type": "stream",
          "name": "stdout",
          "text": [
            "+---+----------+---------+------+----+--------+---------+---------+----------+\n",
            "| id|first_name|last_name|gender|City|JobTitle|   Salary| Latitude| Longitude|\n",
            "+---+----------+---------+------+----+--------+---------+---------+----------+\n",
            "|  3|    Alvera| Di Boldi|Female|null|    null|$57576.52|39.994747|116.339775|\n",
            "+---+----------+---------+------+----+--------+---------+---------+----------+\n",
            "\n"
          ]
        }
      ]
    },
    {
      "cell_type": "code",
      "source": [
        "# 3rd way\n",
        "df_filter = df.filter((df.first_name.endswith('din')))\n",
        "df_filter.show()"
      ],
      "metadata": {
        "colab": {
          "base_uri": "https://localhost:8080/"
        },
        "id": "qpi4PuTIxHnA",
        "outputId": "0e6f806c-8575-4e6d-ae1d-3095ee03556f"
      },
      "execution_count": 32,
      "outputs": [
        {
          "output_type": "stream",
          "name": "stdout",
          "text": [
            "+---+----------+-------------+------+-----------+--------+---------+----------+---------+\n",
            "| id|first_name|    last_name|gender|       City|JobTitle|   Salary|  Latitude|Longitude|\n",
            "+---+----------+-------------+------+-----------+--------+---------+----------+---------+\n",
            "|901|     Aldin|Matuszkiewicz|  Male|East London|Operator|$41468.83|-32.954933|27.931913|\n",
            "+---+----------+-------------+------+-----------+--------+---------+----------+---------+\n",
            "\n"
          ]
        }
      ]
    },
    {
      "cell_type": "code",
      "source": [
        "# 4th way\n",
        "\n",
        "df_filter = df.filter((df.first_name.startswith('Alv')))\n",
        "df_filter.show()"
      ],
      "metadata": {
        "colab": {
          "base_uri": "https://localhost:8080/"
        },
        "id": "HKLwEPVhxHp4",
        "outputId": "c82865a2-6144-41d5-e4c7-0675b77435f9"
      },
      "execution_count": 33,
      "outputs": [
        {
          "output_type": "stream",
          "name": "stdout",
          "text": [
            "+---+----------+---------+------+----------+--------------------+---------+---------+----------+\n",
            "| id|first_name|last_name|gender|      City|            JobTitle|   Salary| Latitude| Longitude|\n",
            "+---+----------+---------+------+----------+--------------------+---------+---------+----------+\n",
            "|  3|    Alvera| Di Boldi|Female|      null|                null|$57576.52|39.994747|116.339775|\n",
            "| 81|     Alvin|    Doman|  Male|      Niny|Research Assistant I|$53258.86|44.486843| 43.940807|\n",
            "|775|   Alverta| MacNulty|Female|Megalópoli| Geological Engineer|$17299.62|37.401245| 22.136488|\n",
            "+---+----------+---------+------+----------+--------------------+---------+---------+----------+\n",
            "\n"
          ]
        }
      ]
    },
    {
      "cell_type": "code",
      "source": [
        "# Filter Id from Dataset: Filter by between()\n",
        "\n",
        "df_filter = df.filter((df.id.between(1,5)))\n",
        "df_filter.show()"
      ],
      "metadata": {
        "colab": {
          "base_uri": "https://localhost:8080/"
        },
        "id": "IKImX7iOuQri",
        "outputId": "e7018917-db6b-4d69-9224-4deb02729267"
      },
      "execution_count": 34,
      "outputs": [
        {
          "output_type": "stream",
          "name": "stdout",
          "text": [
            "+---+----------+----------+------+-------------+--------------------+---------+---------+----------+\n",
            "| id|first_name| last_name|gender|         City|            JobTitle|   Salary| Latitude| Longitude|\n",
            "+---+----------+----------+------+-------------+--------------------+---------+---------+----------+\n",
            "|  1|   Melinde| Shilburne|Female|    Nowa Ruda| Assistant Professor|$57438.18|50.577408| 16.496717|\n",
            "|  2|  Kimberly|Von Welden|Female|       Bulgan|       Programmer II|$62846.60| 48.82316| 103.52182|\n",
            "|  3|    Alvera|  Di Boldi|Female|         null|                null|$57576.52|39.994747|116.339775|\n",
            "|  4|   Shannon| O'Griffin|  Male|Divnomorskoye|Budget/Accounting...|$61489.23|44.504723| 38.130016|\n",
            "|  5|  Sherwood|   Macieja|  Male|    Mytishchi|            VP Sales|$63863.09|     null| 37.648994|\n",
            "+---+----------+----------+------+-------------+--------------------+---------+---------+----------+\n",
            "\n"
          ]
        }
      ]
    },
    {
      "cell_type": "code",
      "source": [
        "# filter by isin()\n",
        "\n",
        "df_filter = df.filter((df.first_name.isin('Aldin' , 'Valma')))\n",
        "df_filter.show()"
      ],
      "metadata": {
        "colab": {
          "base_uri": "https://localhost:8080/"
        },
        "id": "9-6sahnduQtY",
        "outputId": "08367360-048c-4167-afa8-44c9c4934a52"
      },
      "execution_count": 36,
      "outputs": [
        {
          "output_type": "stream",
          "name": "stdout",
          "text": [
            "+---+----------+-------------+------+-----------+----------------+---------+----------+---------+\n",
            "| id|first_name|    last_name|gender|       City|        JobTitle|   Salary|  Latitude|Longitude|\n",
            "+---+----------+-------------+------+-----------+----------------+---------+----------+---------+\n",
            "|569|     Valma|      Bratton|Female|  Kurayoshi|Web Developer II|$32665.89| 35.449905|133.76134|\n",
            "|901|     Aldin|Matuszkiewicz|  Male|East London|        Operator|$41468.83|-32.954933|27.931913|\n",
            "+---+----------+-------------+------+-----------+----------------+---------+----------+---------+\n",
            "\n"
          ]
        }
      ]
    },
    {
      "cell_type": "code",
      "source": [
        "# Filtering by substring() method--------->\n",
        "\n",
        "df_substr = df.select(df.first_name, df.first_name.substr(1,5).alias('name'))\n",
        "df_substr.show()"
      ],
      "metadata": {
        "colab": {
          "base_uri": "https://localhost:8080/"
        },
        "id": "8jSVQ2fM46rq",
        "outputId": "c4d37507-4fd0-4771-df05-3efd3a21f566"
      },
      "execution_count": 38,
      "outputs": [
        {
          "output_type": "stream",
          "name": "stdout",
          "text": [
            "+----------+-----+\n",
            "|first_name| name|\n",
            "+----------+-----+\n",
            "|   Melinde|Melin|\n",
            "|  Kimberly|Kimbe|\n",
            "|    Alvera|Alver|\n",
            "|   Shannon|Shann|\n",
            "|  Sherwood|Sherw|\n",
            "|     Maris|Maris|\n",
            "|     Masha|Masha|\n",
            "|   Goddart|Godda|\n",
            "|      Roth| Roth|\n",
            "|      Bran| Bran|\n",
            "|    Kylynn|Kylyn|\n",
            "|       Rey|  Rey|\n",
            "|      Kerr| Kerr|\n",
            "|    Mickie|Micki|\n",
            "|    Kaspar|Kaspa|\n",
            "|    Norbie|Norbi|\n",
            "|    Claude|Claud|\n",
            "|     Thain|Thain|\n",
            "|  Tiffanie|Tiffa|\n",
            "|    Ettore|Ettor|\n",
            "+----------+-----+\n",
            "only showing top 20 rows\n",
            "\n"
          ]
        }
      ]
    },
    {
      "cell_type": "code",
      "source": [
        "# Applying multiple Filter\n",
        "\n",
        "df_filter = df.filter((df.first_name.isin('Aldin', 'Valma')) & (df.City.like('%ondon')))\n",
        "df_filter.show()"
      ],
      "metadata": {
        "colab": {
          "base_uri": "https://localhost:8080/"
        },
        "id": "BADSw2QG46uX",
        "outputId": "5dcb51f8-dfb6-4dc7-b4fb-543efdbcd1eb"
      },
      "execution_count": 39,
      "outputs": [
        {
          "output_type": "stream",
          "name": "stdout",
          "text": [
            "+---+----------+-------------+------+-----------+--------+---------+----------+---------+\n",
            "| id|first_name|    last_name|gender|       City|JobTitle|   Salary|  Latitude|Longitude|\n",
            "+---+----------+-------------+------+-----------+--------+---------+----------+---------+\n",
            "|901|     Aldin|Matuszkiewicz|  Male|East London|Operator|$41468.83|-32.954933|27.931913|\n",
            "+---+----------+-------------+------+-----------+--------+---------+----------+---------+\n",
            "\n"
          ]
        }
      ]
    },
    {
      "cell_type": "code",
      "source": [
        "df_filter = df.filter((df.id > 10) & (df.id < 100))\n",
        "df_filter.show()"
      ],
      "metadata": {
        "colab": {
          "base_uri": "https://localhost:8080/"
        },
        "id": "HPO95f6046xY",
        "outputId": "a81a0bbc-f6d1-46e2-c246-fe21cc9f329d"
      },
      "execution_count": 40,
      "outputs": [
        {
          "output_type": "stream",
          "name": "stdout",
          "text": [
            "+---+----------+---------+------+--------------+--------------------+---------+----------+----------+\n",
            "| id|first_name|last_name|gender|          City|            JobTitle|   Salary|  Latitude| Longitude|\n",
            "+---+----------+---------+------+--------------+--------------------+---------+----------+----------+\n",
            "| 11|    Kylynn|  Lockart|Female|      El Cardo|Nuclear Power Eng...|$13604.63|     -5.85| -79.88333|\n",
            "| 12|       Rey|   Meharg|Female|   Wangqingtuo|Systems Administr...|$73423.70|  39.17238| 116.93161|\n",
            "| 13|      Kerr|   Braden|  Male|     Sułkowice|Compensation Analyst|$33432.99|  49.81518| 19.377174|\n",
            "| 14|    Mickie|Whanstall|  Male|   Springfield|Assistant Media P...|$50838.53|  42.10148|-72.576675|\n",
            "| 15|    Kaspar|    Pally|  Male|        Chrást|  Analyst Programmer|$40163.03|  49.79233| 13.491532|\n",
            "| 16|    Norbie|   Gwyllt|  Male|        Xijiao|              Editor|$32492.73| 43.494576|  5.897802|\n",
            "| 17|    Claude|   Briant|Female|     Mieścisko|Research Assistan...|$51862.48| 52.744167| 17.327864|\n",
            "| 18|     Thain|   Habbon|  Male|Foros do Trapo|     Design Engineer|$42135.67| 38.696247| -8.709834|\n",
            "| 19|  Tiffanie| Pattison|Female|   Jabungsisir|Senior Financial ...|$91925.08|-7.7232566| 113.46868|\n",
            "| 20|    Ettore| Gerriets|  Male|         Pedra| Staff Accountant IV|$73921.33| 40.717205|-8.3625145|\n",
            "| 21|      Alon| Chasteau|  Male|         Xin’e|     Web Developer I|$62755.85|  49.16291| 127.98658|\n",
            "| 22|   Guthrey|   Johnke|  Male|        Xijiao|         Developer I|$13708.03| 40.757683| 23.134218|\n",
            "| 23|   Lurleen|  Janczak|Female|     Rozkishne|    Web Developer IV|$29384.72|  48.49028|  39.27122|\n",
            "| 24|    Nichol|   Holtum|Female|         Město|           Paralegal|$27797.98| 49.971825| 12.884627|\n",
            "| 25|     Shaun|   Bridle|Female|         Xitou| Office Assistant IV|$71279.60| 29.866917|118.403786|\n",
            "| 26|   Leandra|   Anfrey|Female|       Isfahan|VP Product Manage...|$30201.32|  32.65463| 51.667984|\n",
            "| 27|    Jarvis|   Perone|  Male|     Hägersten| Associate Professor|$55313.18| 59.283207| 17.957006|\n",
            "| 28|  Jaquelyn|   Hazard|Female|         Dhaka|      Tax Accountant|$68368.55| 23.810331|  90.41252|\n",
            "| 29|  Prudence| Honacker|Female|   Suphan Buri|       VP Accounting|$64920.07| 14.546672|100.079575|\n",
            "| 30|    Cherey|    Liger|Female|         Itami|     Design Engineer|$94566.69|  34.77912|  135.4204|\n",
            "+---+----------+---------+------+--------------+--------------------+---------+----------+----------+\n",
            "only showing top 20 rows\n",
            "\n"
          ]
        }
      ]
    },
    {
      "cell_type": "code",
      "source": [
        "# Running SQL on dataframes\n",
        "\n",
        "df.registerTempTable(\"original\")"
      ],
      "metadata": {
        "id": "MiJ4zJ26462S"
      },
      "execution_count": 41,
      "outputs": []
    },
    {
      "cell_type": "code",
      "source": [
        "query1 = spark.sql('select * from original')\n",
        "query1.show()"
      ],
      "metadata": {
        "colab": {
          "base_uri": "https://localhost:8080/"
        },
        "id": "icztmJco4655",
        "outputId": "4dc1d485-f2de-46e2-fd33-38f73a047512"
      },
      "execution_count": 42,
      "outputs": [
        {
          "output_type": "stream",
          "name": "stdout",
          "text": [
            "+---+----------+----------+------+---------------+--------------------+---------+----------+----------+\n",
            "| id|first_name| last_name|gender|           City|            JobTitle|   Salary|  Latitude| Longitude|\n",
            "+---+----------+----------+------+---------------+--------------------+---------+----------+----------+\n",
            "|  1|   Melinde| Shilburne|Female|      Nowa Ruda| Assistant Professor|$57438.18| 50.577408| 16.496717|\n",
            "|  2|  Kimberly|Von Welden|Female|         Bulgan|       Programmer II|$62846.60|  48.82316| 103.52182|\n",
            "|  3|    Alvera|  Di Boldi|Female|           null|                null|$57576.52| 39.994747|116.339775|\n",
            "|  4|   Shannon| O'Griffin|  Male|  Divnomorskoye|Budget/Accounting...|$61489.23| 44.504723| 38.130016|\n",
            "|  5|  Sherwood|   Macieja|  Male|      Mytishchi|            VP Sales|$63863.09|      null| 37.648994|\n",
            "|  6|     Maris|      Folk|Female|Kinsealy-Drinan|      Civil Engineer|$30101.16| 53.426613|-6.1644998|\n",
            "|  7|     Masha|    Divers|Female|         Dachun|                null|$25090.87| 24.879416|118.930115|\n",
            "|  8|   Goddart|     Flear|  Male|      Trélissac|Desktop Support T...|$46116.36| 45.190517| 0.7423124|\n",
            "|  9|      Roth|O'Cannavan|  Male|         Heitan|VP Product Manage...|$73697.10| 32.027935| 106.65711|\n",
            "| 10|      Bran|   Trahear|  Male|       Arbeláez|Mechanical System...|$68098.42|  4.272793|-74.416016|\n",
            "| 11|    Kylynn|   Lockart|Female|       El Cardo|Nuclear Power Eng...|$13604.63|     -5.85| -79.88333|\n",
            "| 12|       Rey|    Meharg|Female|    Wangqingtuo|Systems Administr...|$73423.70|  39.17238| 116.93161|\n",
            "| 13|      Kerr|    Braden|  Male|      Sułkowice|Compensation Analyst|$33432.99|  49.81518| 19.377174|\n",
            "| 14|    Mickie| Whanstall|  Male|    Springfield|Assistant Media P...|$50838.53|  42.10148|-72.576675|\n",
            "| 15|    Kaspar|     Pally|  Male|         Chrást|  Analyst Programmer|$40163.03|  49.79233| 13.491532|\n",
            "| 16|    Norbie|    Gwyllt|  Male|         Xijiao|              Editor|$32492.73| 43.494576|  5.897802|\n",
            "| 17|    Claude|    Briant|Female|      Mieścisko|Research Assistan...|$51862.48| 52.744167| 17.327864|\n",
            "| 18|     Thain|    Habbon|  Male| Foros do Trapo|     Design Engineer|$42135.67| 38.696247| -8.709834|\n",
            "| 19|  Tiffanie|  Pattison|Female|    Jabungsisir|Senior Financial ...|$91925.08|-7.7232566| 113.46868|\n",
            "| 20|    Ettore|  Gerriets|  Male|          Pedra| Staff Accountant IV|$73921.33| 40.717205|-8.3625145|\n",
            "+---+----------+----------+------+---------------+--------------------+---------+----------+----------+\n",
            "only showing top 20 rows\n",
            "\n"
          ]
        }
      ]
    },
    {
      "cell_type": "code",
      "source": [
        "query2 = spark.sql('select concat(first_name, \" \", last_name) as full_name from original where gender = \"Female\"')\n",
        "query2.show()"
      ],
      "metadata": {
        "colab": {
          "base_uri": "https://localhost:8080/"
        },
        "id": "KeVBfKsD468N",
        "outputId": "83d047b5-9d56-4297-b429-ece2c0365834"
      },
      "execution_count": 43,
      "outputs": [
        {
          "output_type": "stream",
          "name": "stdout",
          "text": [
            "+-------------------+\n",
            "|          full_name|\n",
            "+-------------------+\n",
            "|  Melinde Shilburne|\n",
            "|Kimberly Von Welden|\n",
            "|    Alvera Di Boldi|\n",
            "|         Maris Folk|\n",
            "|       Masha Divers|\n",
            "|     Kylynn Lockart|\n",
            "|         Rey Meharg|\n",
            "|      Claude Briant|\n",
            "|  Tiffanie Pattison|\n",
            "|    Lurleen Janczak|\n",
            "|      Nichol Holtum|\n",
            "|       Shaun Bridle|\n",
            "|     Leandra Anfrey|\n",
            "|    Jaquelyn Hazard|\n",
            "|  Prudence Honacker|\n",
            "|       Cherey Liger|\n",
            "|          Neda Krop|\n",
            "|    Barbi Fattorini|\n",
            "|   Lonnie Townshend|\n",
            "|    Valida Salzberg|\n",
            "+-------------------+\n",
            "only showing top 20 rows\n",
            "\n"
          ]
        }
      ]
    },
    {
      "cell_type": "code",
      "source": [
        "# Adding Calulated columns\n",
        "# $ sign from salary column\n",
        "\n",
        "df = df.withColumn('clean_salary', df.Salary.substr(2,100).cast('float'))\n",
        "df.show()"
      ],
      "metadata": {
        "colab": {
          "base_uri": "https://localhost:8080/"
        },
        "id": "hJk1gZ_LAElY",
        "outputId": "a0804a30-aba0-4cf9-dde7-025661367bb2"
      },
      "execution_count": 45,
      "outputs": [
        {
          "output_type": "stream",
          "name": "stdout",
          "text": [
            "+---+----------+----------+------+---------------+--------------------+---------+----------+----------+------------+\n",
            "| id|first_name| last_name|gender|           City|            JobTitle|   Salary|  Latitude| Longitude|clean_salary|\n",
            "+---+----------+----------+------+---------------+--------------------+---------+----------+----------+------------+\n",
            "|  1|   Melinde| Shilburne|Female|      Nowa Ruda| Assistant Professor|$57438.18| 50.577408| 16.496717|    57438.18|\n",
            "|  2|  Kimberly|Von Welden|Female|         Bulgan|       Programmer II|$62846.60|  48.82316| 103.52182|     62846.6|\n",
            "|  3|    Alvera|  Di Boldi|Female|           null|                null|$57576.52| 39.994747|116.339775|    57576.52|\n",
            "|  4|   Shannon| O'Griffin|  Male|  Divnomorskoye|Budget/Accounting...|$61489.23| 44.504723| 38.130016|    61489.23|\n",
            "|  5|  Sherwood|   Macieja|  Male|      Mytishchi|            VP Sales|$63863.09|      null| 37.648994|    63863.09|\n",
            "|  6|     Maris|      Folk|Female|Kinsealy-Drinan|      Civil Engineer|$30101.16| 53.426613|-6.1644998|    30101.16|\n",
            "|  7|     Masha|    Divers|Female|         Dachun|                null|$25090.87| 24.879416|118.930115|    25090.87|\n",
            "|  8|   Goddart|     Flear|  Male|      Trélissac|Desktop Support T...|$46116.36| 45.190517| 0.7423124|    46116.36|\n",
            "|  9|      Roth|O'Cannavan|  Male|         Heitan|VP Product Manage...|$73697.10| 32.027935| 106.65711|     73697.1|\n",
            "| 10|      Bran|   Trahear|  Male|       Arbeláez|Mechanical System...|$68098.42|  4.272793|-74.416016|    68098.42|\n",
            "| 11|    Kylynn|   Lockart|Female|       El Cardo|Nuclear Power Eng...|$13604.63|     -5.85| -79.88333|    13604.63|\n",
            "| 12|       Rey|    Meharg|Female|    Wangqingtuo|Systems Administr...|$73423.70|  39.17238| 116.93161|     73423.7|\n",
            "| 13|      Kerr|    Braden|  Male|      Sułkowice|Compensation Analyst|$33432.99|  49.81518| 19.377174|    33432.99|\n",
            "| 14|    Mickie| Whanstall|  Male|    Springfield|Assistant Media P...|$50838.53|  42.10148|-72.576675|    50838.53|\n",
            "| 15|    Kaspar|     Pally|  Male|         Chrást|  Analyst Programmer|$40163.03|  49.79233| 13.491532|    40163.03|\n",
            "| 16|    Norbie|    Gwyllt|  Male|         Xijiao|              Editor|$32492.73| 43.494576|  5.897802|    32492.73|\n",
            "| 17|    Claude|    Briant|Female|      Mieścisko|Research Assistan...|$51862.48| 52.744167| 17.327864|    51862.48|\n",
            "| 18|     Thain|    Habbon|  Male| Foros do Trapo|     Design Engineer|$42135.67| 38.696247| -8.709834|    42135.67|\n",
            "| 19|  Tiffanie|  Pattison|Female|    Jabungsisir|Senior Financial ...|$91925.08|-7.7232566| 113.46868|    91925.08|\n",
            "| 20|    Ettore|  Gerriets|  Male|          Pedra| Staff Accountant IV|$73921.33| 40.717205|-8.3625145|    73921.33|\n",
            "+---+----------+----------+------+---------------+--------------------+---------+----------+----------+------------+\n",
            "only showing top 20 rows\n",
            "\n"
          ]
        }
      ]
    },
    {
      "cell_type": "code",
      "source": [
        "df = df.withColumn('monthly_salary', df.clean_salary/12)\n",
        "df.show()"
      ],
      "metadata": {
        "colab": {
          "base_uri": "https://localhost:8080/"
        },
        "id": "JXWcy8LOAEp3",
        "outputId": "72b7d094-b953-4de9-eb68-339cd884b88b"
      },
      "execution_count": 46,
      "outputs": [
        {
          "output_type": "stream",
          "name": "stdout",
          "text": [
            "+---+----------+----------+------+---------------+--------------------+---------+----------+----------+------------+------------------+\n",
            "| id|first_name| last_name|gender|           City|            JobTitle|   Salary|  Latitude| Longitude|clean_salary|    monthly_salary|\n",
            "+---+----------+----------+------+---------------+--------------------+---------+----------+----------+------------+------------------+\n",
            "|  1|   Melinde| Shilburne|Female|      Nowa Ruda| Assistant Professor|$57438.18| 50.577408| 16.496717|    57438.18| 4786.514973958333|\n",
            "|  2|  Kimberly|Von Welden|Female|         Bulgan|       Programmer II|$62846.60|  48.82316| 103.52182|     62846.6|    5237.216796875|\n",
            "|  3|    Alvera|  Di Boldi|Female|           null|                null|$57576.52| 39.994747|116.339775|    57576.52| 4798.043294270833|\n",
            "|  4|   Shannon| O'Griffin|  Male|  Divnomorskoye|Budget/Accounting...|$61489.23| 44.504723| 38.130016|    61489.23|   5124.1025390625|\n",
            "|  5|  Sherwood|   Macieja|  Male|      Mytishchi|            VP Sales|$63863.09|      null| 37.648994|    63863.09| 5321.924153645833|\n",
            "|  6|     Maris|      Folk|Female|Kinsealy-Drinan|      Civil Engineer|$30101.16| 53.426613|-6.1644998|    30101.16|2508.4300130208335|\n",
            "|  7|     Masha|    Divers|Female|         Dachun|                null|$25090.87| 24.879416|118.930115|    25090.87|  2090.90576171875|\n",
            "|  8|   Goddart|     Flear|  Male|      Trélissac|Desktop Support T...|$46116.36| 45.190517| 0.7423124|    46116.36|3843.0299479166665|\n",
            "|  9|      Roth|O'Cannavan|  Male|         Heitan|VP Product Manage...|$73697.10| 32.027935| 106.65711|     73697.1| 6141.425130208333|\n",
            "| 10|      Bran|   Trahear|  Male|       Arbeláez|Mechanical System...|$68098.42|  4.272793|-74.416016|    68098.42| 5674.868489583333|\n",
            "| 11|    Kylynn|   Lockart|Female|       El Cardo|Nuclear Power Eng...|$13604.63|     -5.85| -79.88333|    13604.63|1133.7191569010417|\n",
            "| 12|       Rey|    Meharg|Female|    Wangqingtuo|Systems Administr...|$73423.70|  39.17238| 116.93161|     73423.7| 6118.641927083333|\n",
            "| 13|      Kerr|    Braden|  Male|      Sułkowice|Compensation Analyst|$33432.99|  49.81518| 19.377174|    33432.99|2786.0823567708335|\n",
            "| 14|    Mickie| Whanstall|  Male|    Springfield|Assistant Media P...|$50838.53|  42.10148|-72.576675|    50838.53| 4236.544270833333|\n",
            "| 15|    Kaspar|     Pally|  Male|         Chrást|  Analyst Programmer|$40163.03|  49.79233| 13.491532|    40163.03|3346.9192708333335|\n",
            "| 16|    Norbie|    Gwyllt|  Male|         Xijiao|              Editor|$32492.73| 43.494576|  5.897802|    32492.73|   2707.7275390625|\n",
            "| 17|    Claude|    Briant|Female|      Mieścisko|Research Assistan...|$51862.48| 52.744167| 17.327864|    51862.48| 4321.873372395833|\n",
            "| 18|     Thain|    Habbon|  Male| Foros do Trapo|     Design Engineer|$42135.67| 38.696247| -8.709834|    42135.67|3511.3059895833335|\n",
            "| 19|  Tiffanie|  Pattison|Female|    Jabungsisir|Senior Financial ...|$91925.08|-7.7232566| 113.46868|    91925.08| 7660.423177083333|\n",
            "| 20|    Ettore|  Gerriets|  Male|          Pedra| Staff Accountant IV|$73921.33| 40.717205|-8.3625145|    73921.33| 6160.110677083333|\n",
            "+---+----------+----------+------+---------------+--------------------+---------+----------+----------+------------+------------------+\n",
            "only showing top 20 rows\n",
            "\n"
          ]
        }
      ]
    },
    {
      "cell_type": "code",
      "source": [
        "df = df.withColumn('are_they_female', when(df.gender == 'Female', 'Yes').otherwise('No'))\n",
        "df.show()"
      ],
      "metadata": {
        "colab": {
          "base_uri": "https://localhost:8080/"
        },
        "id": "jSlYzSDYAEtt",
        "outputId": "93ad36b4-d18f-46d3-b856-6f74d517cbbc"
      },
      "execution_count": 47,
      "outputs": [
        {
          "output_type": "stream",
          "name": "stdout",
          "text": [
            "+---+----------+----------+------+---------------+--------------------+---------+----------+----------+------------+------------------+---------------+\n",
            "| id|first_name| last_name|gender|           City|            JobTitle|   Salary|  Latitude| Longitude|clean_salary|    monthly_salary|are_they_female|\n",
            "+---+----------+----------+------+---------------+--------------------+---------+----------+----------+------------+------------------+---------------+\n",
            "|  1|   Melinde| Shilburne|Female|      Nowa Ruda| Assistant Professor|$57438.18| 50.577408| 16.496717|    57438.18| 4786.514973958333|            Yes|\n",
            "|  2|  Kimberly|Von Welden|Female|         Bulgan|       Programmer II|$62846.60|  48.82316| 103.52182|     62846.6|    5237.216796875|            Yes|\n",
            "|  3|    Alvera|  Di Boldi|Female|           null|                null|$57576.52| 39.994747|116.339775|    57576.52| 4798.043294270833|            Yes|\n",
            "|  4|   Shannon| O'Griffin|  Male|  Divnomorskoye|Budget/Accounting...|$61489.23| 44.504723| 38.130016|    61489.23|   5124.1025390625|             No|\n",
            "|  5|  Sherwood|   Macieja|  Male|      Mytishchi|            VP Sales|$63863.09|      null| 37.648994|    63863.09| 5321.924153645833|             No|\n",
            "|  6|     Maris|      Folk|Female|Kinsealy-Drinan|      Civil Engineer|$30101.16| 53.426613|-6.1644998|    30101.16|2508.4300130208335|            Yes|\n",
            "|  7|     Masha|    Divers|Female|         Dachun|                null|$25090.87| 24.879416|118.930115|    25090.87|  2090.90576171875|            Yes|\n",
            "|  8|   Goddart|     Flear|  Male|      Trélissac|Desktop Support T...|$46116.36| 45.190517| 0.7423124|    46116.36|3843.0299479166665|             No|\n",
            "|  9|      Roth|O'Cannavan|  Male|         Heitan|VP Product Manage...|$73697.10| 32.027935| 106.65711|     73697.1| 6141.425130208333|             No|\n",
            "| 10|      Bran|   Trahear|  Male|       Arbeláez|Mechanical System...|$68098.42|  4.272793|-74.416016|    68098.42| 5674.868489583333|             No|\n",
            "| 11|    Kylynn|   Lockart|Female|       El Cardo|Nuclear Power Eng...|$13604.63|     -5.85| -79.88333|    13604.63|1133.7191569010417|            Yes|\n",
            "| 12|       Rey|    Meharg|Female|    Wangqingtuo|Systems Administr...|$73423.70|  39.17238| 116.93161|     73423.7| 6118.641927083333|            Yes|\n",
            "| 13|      Kerr|    Braden|  Male|      Sułkowice|Compensation Analyst|$33432.99|  49.81518| 19.377174|    33432.99|2786.0823567708335|             No|\n",
            "| 14|    Mickie| Whanstall|  Male|    Springfield|Assistant Media P...|$50838.53|  42.10148|-72.576675|    50838.53| 4236.544270833333|             No|\n",
            "| 15|    Kaspar|     Pally|  Male|         Chrást|  Analyst Programmer|$40163.03|  49.79233| 13.491532|    40163.03|3346.9192708333335|             No|\n",
            "| 16|    Norbie|    Gwyllt|  Male|         Xijiao|              Editor|$32492.73| 43.494576|  5.897802|    32492.73|   2707.7275390625|             No|\n",
            "| 17|    Claude|    Briant|Female|      Mieścisko|Research Assistan...|$51862.48| 52.744167| 17.327864|    51862.48| 4321.873372395833|            Yes|\n",
            "| 18|     Thain|    Habbon|  Male| Foros do Trapo|     Design Engineer|$42135.67| 38.696247| -8.709834|    42135.67|3511.3059895833335|             No|\n",
            "| 19|  Tiffanie|  Pattison|Female|    Jabungsisir|Senior Financial ...|$91925.08|-7.7232566| 113.46868|    91925.08| 7660.423177083333|            Yes|\n",
            "| 20|    Ettore|  Gerriets|  Male|          Pedra| Staff Accountant IV|$73921.33| 40.717205|-8.3625145|    73921.33| 6160.110677083333|             No|\n",
            "+---+----------+----------+------+---------------+--------------------+---------+----------+----------+------------+------------------+---------------+\n",
            "only showing top 20 rows\n",
            "\n"
          ]
        }
      ]
    },
    {
      "cell_type": "code",
      "source": [
        "# Group By & Aggregation\n",
        "\n",
        "import pyspark.sql.functions as sqlfunc"
      ],
      "metadata": {
        "id": "kyK1gNEsAExE"
      },
      "execution_count": 48,
      "outputs": []
    },
    {
      "cell_type": "code",
      "source": [
        "df1 = df.groupBy('gender').agg(sqlfunc.sum('clean_salary'))\n",
        "df1.show()"
      ],
      "metadata": {
        "colab": {
          "base_uri": "https://localhost:8080/"
        },
        "id": "K5gU7u4xAE0f",
        "outputId": "18dd5635-05ad-4478-f630-a9c0becdf524"
      },
      "execution_count": 49,
      "outputs": [
        {
          "output_type": "stream",
          "name": "stdout",
          "text": [
            "+------+--------------------+\n",
            "|gender|   sum(clean_salary)|\n",
            "+------+--------------------+\n",
            "|Female|2.7364519950195312E7|\n",
            "|  Male|2.8123435678710938E7|\n",
            "+------+--------------------+\n",
            "\n"
          ]
        }
      ]
    },
    {
      "cell_type": "code",
      "source": [
        "df1 = df.groupBy('gender').agg(sqlfunc.sum('clean_salary').alias('total'),\n",
        "                               sqlfunc.avg('clean_salary').alias('Avgsalary'),\n",
        "                               sqlfunc.min('clean_salary').alias('Min_salary'),\n",
        "                               sqlfunc.max('clean_salary').alias('Max_salary'))\n",
        "df1.show()\n",
        ""
      ],
      "metadata": {
        "colab": {
          "base_uri": "https://localhost:8080/"
        },
        "id": "mFNmL-82C343",
        "outputId": "388d54d6-2bab-4f00-a91c-737aa681da53"
      },
      "execution_count": 51,
      "outputs": [
        {
          "output_type": "stream",
          "name": "stdout",
          "text": [
            "+------+--------------------+-----------------+----------+----------+\n",
            "|gender|               total|        Avgsalary|Min_salary|Max_salary|\n",
            "+------+--------------------+-----------------+----------+----------+\n",
            "|Female|2.7364519950195312E7|55618.94298820185|  10616.44|  99948.28|\n",
            "|  Male|2.8123435678710938E7|55361.09385573019|  10101.92|  99942.92|\n",
            "+------+--------------------+-----------------+----------+----------+\n",
            "\n"
          ]
        }
      ]
    },
    {
      "cell_type": "code",
      "source": [
        "df1 = df.groupBy('gender', 'City').agg(sqlfunc.sum('clean_salary').alias('total'),\n",
        "                               sqlfunc.avg('clean_salary').alias('Avgsalary'),\n",
        "                               sqlfunc.min('clean_salary').alias('Min_salary'),\n",
        "                               sqlfunc.max('clean_salary').alias('Max_salary'))\n",
        "df1.show()\n",
        ""
      ],
      "metadata": {
        "colab": {
          "base_uri": "https://localhost:8080/"
        },
        "id": "sO1Mll61C4AV",
        "outputId": "ef1939f4-dc9f-4c62-f5e9-535067fb6b92"
      },
      "execution_count": 52,
      "outputs": [
        {
          "output_type": "stream",
          "name": "stdout",
          "text": [
            "+------+-----------------+----------------+----------------+----------+----------+\n",
            "|gender|             City|           total|       Avgsalary|Min_salary|Max_salary|\n",
            "+------+-----------------+----------------+----------------+----------+----------+\n",
            "|Female|           Dachun| 25090.869140625| 25090.869140625|  25090.87|  25090.87|\n",
            "|Female|      Trollhättan|106623.369140625|53311.6845703125|  26830.47|   79792.9|\n",
            "|  Male|          Wenshao| 18941.509765625| 18941.509765625|  18941.51|  18941.51|\n",
            "|Female|            Lanas| 13765.900390625| 13765.900390625|   13765.9|   13765.9|\n",
            "|  Male|            Mörön|    77940.078125|    77940.078125|  77940.08|  77940.08|\n",
            "|Female|             Same|   73369.7265625|   73369.7265625|  73369.73|  73369.73|\n",
            "|Female|          Sawahan|  24608.83984375|  24608.83984375|  24608.84|  24608.84|\n",
            "|  Male|Monte da Boavista|     98586.71875|     98586.71875|  98586.72|  98586.72|\n",
            "|Female|         Nusajaya|    71637.921875|    71637.921875|  71637.92|  71637.92|\n",
            "|Female|            Kista|   96192.3984375|   96192.3984375|   96192.4|   96192.4|\n",
            "|  Male|       Pittsburgh|    83121.890625|    83121.890625|  83121.89|  83121.89|\n",
            "|  Male|       Neftegorsk|     97531.46875|     97531.46875|  97531.47|  97531.47|\n",
            "|Female|          Yanaoca|     54906.21875|     54906.21875|  54906.22|  54906.22|\n",
            "|  Male|            Tambo|  40264.91015625|  40264.91015625|  40264.91|  40264.91|\n",
            "|  Male|        Mytishchi|  63863.08984375|  63863.08984375|  63863.09|  63863.09|\n",
            "|  Male|            Pedra|    73921.328125|    73921.328125|  73921.33|  73921.33|\n",
            "|Female|            Dhaka|    68368.546875|    68368.546875|  68368.55|  68368.55|\n",
            "|  Male|        Mosteiros|  62508.87109375|  62508.87109375|  62508.87|  62508.87|\n",
            "|  Male|           Roanne|   93339.9921875|   93339.9921875|  93339.99|  93339.99|\n",
            "|Female|        Eindhoven| 24042.099609375| 24042.099609375|   24042.1|   24042.1|\n",
            "+------+-----------------+----------------+----------------+----------+----------+\n",
            "only showing top 20 rows\n",
            "\n"
          ]
        }
      ]
    },
    {
      "cell_type": "code",
      "source": [
        "# Writing DataFrames to files\n",
        "\n",
        "df1.write.csv('df1.csv')\n",
        "df1.write.parquet('df1.parquet')"
      ],
      "metadata": {
        "id": "8V_NqLFlC4D_"
      },
      "execution_count": 54,
      "outputs": []
    },
    {
      "cell_type": "code",
      "source": [],
      "metadata": {
        "id": "JnqWCrq7C4Hr"
      },
      "execution_count": null,
      "outputs": []
    },
    {
      "cell_type": "code",
      "source": [],
      "metadata": {
        "id": "3xm2KfyYAE30"
      },
      "execution_count": null,
      "outputs": []
    },
    {
      "cell_type": "code",
      "source": [],
      "metadata": {
        "id": "vU0silAK46-y"
      },
      "execution_count": null,
      "outputs": []
    },
    {
      "cell_type": "code",
      "source": [],
      "metadata": {
        "id": "HcpVhYfguQvH"
      },
      "execution_count": null,
      "outputs": []
    },
    {
      "cell_type": "code",
      "source": [],
      "metadata": {
        "id": "Z_yB6oxLuQw_"
      },
      "execution_count": null,
      "outputs": []
    },
    {
      "cell_type": "code",
      "source": [],
      "metadata": {
        "id": "1H6YMkPGuQzD"
      },
      "execution_count": null,
      "outputs": []
    },
    {
      "cell_type": "code",
      "source": [],
      "metadata": {
        "id": "mqbvUVieuQ04"
      },
      "execution_count": null,
      "outputs": []
    }
  ]
}